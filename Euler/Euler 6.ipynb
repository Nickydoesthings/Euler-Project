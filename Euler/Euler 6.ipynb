{
 "cells": [
  {
   "cell_type": "markdown",
   "id": "5d17fe34",
   "metadata": {},
   "source": [
    "## Euler 6\n",
    "\n",
    "The sum of the squares of the first ten natural numbers is,\n",
    "\n",
    "$1^2 + 2^2 + ... + 10^2 = 385$\n",
    "\n",
    "The square of the sum of the first ten natural numbers is,\n",
    "\n",
    "$(1+2+...+10)^2 = 3021$\n",
    "\n",
    "Hence the difference between the sum of the squares of the first ten natural numbers and the square of the sum is $3025-385=2640$\n",
    ".\n",
    "\n",
    "Find the difference between the sum of the squares of the first one hundred natural numbers and the square of the sum.\n",
    "___"
   ]
  },
  {
   "cell_type": "markdown",
   "id": "96e1707f",
   "metadata": {},
   "source": [
    "This one is pretty straitforward! Just need to find the two sums and subtract them."
   ]
  },
  {
   "cell_type": "code",
   "execution_count": 3,
   "id": "308f4762",
   "metadata": {},
   "outputs": [
    {
     "name": "stdout",
     "output_type": "stream",
     "text": [
      "25164150\n"
     ]
    }
   ],
   "source": [
    "sumOfSquares = 0\n",
    "squareOfSum = 0\n",
    "\n",
    "for i in range(0,101):\n",
    "    sumOfSquares += i**2\n",
    "\n",
    "for j in range(0,101):\n",
    "    squareOfSum += j\n",
    "squareOfSum = squareOfSum**2\n",
    "\n",
    "diff = squareOfSum - sumOfSquares\n",
    "print(diff)"
   ]
  },
  {
   "cell_type": "code",
   "execution_count": null,
   "id": "3a6b0d51",
   "metadata": {},
   "outputs": [],
   "source": []
  }
 ],
 "metadata": {
  "kernelspec": {
   "display_name": "Python 3 (ipykernel)",
   "language": "python",
   "name": "python3"
  },
  "language_info": {
   "codemirror_mode": {
    "name": "ipython",
    "version": 3
   },
   "file_extension": ".py",
   "mimetype": "text/x-python",
   "name": "python",
   "nbconvert_exporter": "python",
   "pygments_lexer": "ipython3",
   "version": "3.10.0"
  }
 },
 "nbformat": 4,
 "nbformat_minor": 5
}
