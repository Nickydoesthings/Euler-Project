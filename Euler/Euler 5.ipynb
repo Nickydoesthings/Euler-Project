{
 "cells": [
  {
   "cell_type": "markdown",
   "id": "492b13dc",
   "metadata": {},
   "source": [
    "## Euler 5\n",
    "\n",
    "2520 is the smallest number that can be divided by each of the numbers from 1 to 10 without any remainder.\n",
    "\n",
    "What is the smallest positive number that is evenly divisible by all of the numbers from 1 to 20?\n",
    "___"
   ]
  },
  {
   "cell_type": "markdown",
   "id": "4de13a34",
   "metadata": {},
   "source": [
    "At first I was a little confused, since I immediately thought the answer was $20!$. However, I realized that while $20!$ is indeed divisible by all the number from 1 to 20, it is not the *least* such number. How interesting.\n",
    "\n",
    "You may notice that we begin at $20$ and iterate by $20$ - this means we only check multiples of $20$. This is to make our computation faster! Since we know $20$ must evenly divide our target number, that means our target number is some multiple of $20$. We want to keep these somputations under a minute max, so this simple modification is quite necessary (iterating by just 1 took my computer about 2 minutes)."
   ]
  },
  {
   "cell_type": "code",
   "execution_count": 24,
   "id": "38d78c0e",
   "metadata": {},
   "outputs": [
    {
     "name": "stdout",
     "output_type": "stream",
     "text": [
      "The number you seek is 232792560\n",
      "It took about 7.15625 seconds to compute this.\n"
     ]
    }
   ],
   "source": [
    "import time\n",
    "\n",
    "begin = time.process_time()\n",
    "iterant = 20\n",
    "foundOne = False\n",
    "divNum = 0\n",
    "\n",
    "\n",
    "while foundOne == False:\n",
    "    for i in range(1,21):\n",
    "        if iterant % i == 0:\n",
    "            divNum += 1\n",
    "        else:\n",
    "            break\n",
    "        \n",
    "\n",
    "    if divNum == 20:\n",
    "        print(\"The number you seek is %s\" % iterant)\n",
    "        end = time.process_time()\n",
    "        duration = end-begin\n",
    "        print(\"It took about %s seconds to compute this.\" % duration)\n",
    "        foundOne = True\n",
    "    else:\n",
    "        iterant += 20\n",
    "        divNum = 0\n",
    "\n",
    "            \n",
    "        "
   ]
  }
 ],
 "metadata": {
  "kernelspec": {
   "display_name": "Python 3 (ipykernel)",
   "language": "python",
   "name": "python3"
  },
  "language_info": {
   "codemirror_mode": {
    "name": "ipython",
    "version": 3
   },
   "file_extension": ".py",
   "mimetype": "text/x-python",
   "name": "python",
   "nbconvert_exporter": "python",
   "pygments_lexer": "ipython3",
   "version": "3.10.0"
  }
 },
 "nbformat": 4,
 "nbformat_minor": 5
}
