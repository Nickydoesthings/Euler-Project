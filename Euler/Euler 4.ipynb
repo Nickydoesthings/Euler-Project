{
 "cells": [
  {
   "cell_type": "markdown",
   "id": "5a84d94f",
   "metadata": {},
   "source": [
    "## Euler 4\n",
    "\n",
    "A palindromic number reads the same both ways. The largest palindrome made from the product of two 2-digit numbers is 9009 = 91 × 99.\n",
    "\n",
    "Find the largest palindrome made from the product of two 3-digit numbers.\n",
    "___"
   ]
  },
  {
   "cell_type": "markdown",
   "id": "028cc398",
   "metadata": {},
   "source": [
    "Here's another simple program wich works in the following way: first check every product of two 3-digits numbers to see if they're a palindrome. Then add each palindrome you find to a list. Then find the maximum of that list.\n",
    "\n",
    "My palindrome-finding-nested-for-loops  beginning on line 24 might be a little confusing so here's a quick explanation:\n",
    "\n",
    "We *could* multiply 999 by every three-digit number, then do 998, 997, and so on. It can be seen that this method is inefficient, however, because it would have us checking the same numbers multiple times - for instance we'd check $999 \\cdot 150$ and then later check $150 \\cdot 999$. To avoid this, we just check the multiples of each number *below that number*. For example, when we iterate down to check $150$'s three-digit multiples, we only check $150 \\cdot 150$ then $150 \\cdot 149$ and down from there. Because, all the  multiples of $150$ *above* $150$ have already been taken care of. If that doesn't make sense, that's ok. This modified multiple-checking algorithm saves maybe fractions of a second and is probably a case of unnecessary optimization.\n",
    "\n",
    "This program holds *all* such palindromes in the list named palinList, so if you're curious to see the others, you can just print that value."
   ]
  },
  {
   "cell_type": "code",
   "execution_count": 49,
   "id": "2bdae1bc",
   "metadata": {},
   "outputs": [
    {
     "name": "stdout",
     "output_type": "stream",
     "text": [
      "The largest palindrome which is the product of two 3 digit numbers is 906609.\n"
     ]
    }
   ],
   "source": [
    "#checks if a str is a palindrome\n",
    "def is_palin(string):\n",
    "    length = len(string)\n",
    "    \n",
    "    #split string into halves - if odd number of chars, drop the middle one\n",
    "    if length % 2 == 0:\n",
    "        firsthalf = string[0:int(length/2)]\n",
    "        lasthalf = string[int(length/2):length]\n",
    "    elif length % 2 != 0:\n",
    "        firsthalf = string[0:math.ceil(length/2)-1]\n",
    "        lasthalf = string[math.ceil(length/2):length]\n",
    "        \n",
    "    #reverse the last half string using \"extended slice\"\n",
    "    lasthalf = lasthalf[::-1]\n",
    "    \n",
    "    if firsthalf == lasthalf:\n",
    "        return True\n",
    "    else:\n",
    "        return False\n",
    "    \n",
    "    \n",
    "palinList = []\n",
    "#Check from the top starting at 999x999 down to 999x100. Then go to 998x998 down to 998x100. And so on.\n",
    "for i in range(999,100,-1):\n",
    "    for k in range(i,100,-1):\n",
    "        if is_palin(str(i*k)) == True:\n",
    "            palinList.append(i*k)\n",
    "            break\n",
    "        else:\n",
    "            continue\n",
    "            \n",
    "print(\"The largest palindrome which is the product of two 3-digit numbers is %s.\" % max(palinList))"
   ]
  },
  {
   "cell_type": "code",
   "execution_count": null,
   "id": "edcdc185",
   "metadata": {},
   "outputs": [],
   "source": []
  }
 ],
 "metadata": {
  "kernelspec": {
   "display_name": "Python 3 (ipykernel)",
   "language": "python",
   "name": "python3"
  },
  "language_info": {
   "codemirror_mode": {
    "name": "ipython",
    "version": 3
   },
   "file_extension": ".py",
   "mimetype": "text/x-python",
   "name": "python",
   "nbconvert_exporter": "python",
   "pygments_lexer": "ipython3",
   "version": "3.10.0"
  }
 },
 "nbformat": 4,
 "nbformat_minor": 5
}
