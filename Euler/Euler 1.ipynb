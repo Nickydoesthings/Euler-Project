{
 "cells": [
  {
   "cell_type": "markdown",
   "id": "830b8f4a",
   "metadata": {},
   "source": [
    "### Euler Project 1\n",
    "\n",
    "If we list all the natural numbers below 10 that are multiples of 3 or 5, we get 3, 5, 6 and 9. The sum of these multiples is 23.\n",
    "\n",
    "Find the sum of all the multiples of 3 or 5 below 1000.\n",
    "\n",
    "___"
   ]
  },
  {
   "cell_type": "markdown",
   "id": "87012ee7",
   "metadata": {},
   "source": [
    "This is pretty simple one - just a while loop on x, where each step checks if x divides 3 or 5. If so, it adds them to our sumn and if not, it moves on."
   ]
  },
  {
   "cell_type": "code",
   "execution_count": 3,
   "id": "e1a96f8a",
   "metadata": {},
   "outputs": [
    {
     "name": "stdout",
     "output_type": "stream",
     "text": [
      "233168\n"
     ]
    }
   ],
   "source": [
    "x=1\n",
    "sum=0\n",
    "\n",
    "while x < 1000:\n",
    "    if x % 3 == 0 or x % 5 == 0:\n",
    "        sum += x\n",
    "    else:\n",
    "        pass\n",
    "    x+=1\n",
    "\n",
    "print(sum)"
   ]
  }
 ],
 "metadata": {
  "kernelspec": {
   "display_name": "Python 3 (ipykernel)",
   "language": "python",
   "name": "python3"
  },
  "language_info": {
   "codemirror_mode": {
    "name": "ipython",
    "version": 3
   },
   "file_extension": ".py",
   "mimetype": "text/x-python",
   "name": "python",
   "nbconvert_exporter": "python",
   "pygments_lexer": "ipython3",
   "version": "3.10.0"
  }
 },
 "nbformat": 4,
 "nbformat_minor": 5
}
