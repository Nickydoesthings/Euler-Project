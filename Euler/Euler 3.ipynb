{
 "cells": [
  {
   "cell_type": "markdown",
   "id": "3db191aa",
   "metadata": {},
   "source": [
    "## Euler 3\n",
    "\n",
    "The prime factors of 13195 are 5, 7, 13 and 29.\n",
    "\n",
    "What is the largest prime factor of the number 600851475143 ?\n",
    "___"
   ]
  },
  {
   "cell_type": "markdown",
   "id": "b8c4e52a",
   "metadata": {},
   "source": [
    "This is actually a much more general solution than it needs to be - this program is capable of finding all factors of any number, and can identify whether each factor is prime or composite. In this state, it just returns the largest prime, but with a bit of simple modification it can return any of the following, which are stored as lists somewhere in the program:\n",
    "* List factors of a number (factorlist)\n",
    "* List of prime factors of a number (primelist)\n",
    "* List of composite factors of a number (compositelist)\n",
    "\n",
    "I use two functions: find_factors() and largest_prime(). They both do exactly as expected and have comments explaining what each section of code is meant to do, so I won't belabor that point. \n",
    "\n",
    "I do want to explain one thing however... you may notice that each time we check for factors of a number $n$, we only check up to the $\\sqrt{n}$. To understand why, we should think of factors not as individual numbers, but rather as *pairs* of numbers. If you find one factor $a$ of $n$, you always know it's pair (simply divide $n$ by $a$ and *voila*, you have a new factor). \n",
    "\n",
    "Here's a very useful fact to illustrate that point: for any number $n=ab$ where $n$, $a$, and $b$ are all natural numbers,\n",
    "\n",
    "then either $a \\leq \\sqrt{n} \\leq b$ or $b \\leq \\sqrt{n} \\leq a$. \n",
    "\n",
    "You can think of $n=ab$ in the sense that $a$ and $b$ are *any* two factors of $n$.\n",
    "\n",
    "This is the crux of why we only need to check up to the square root - Once we find $a$ or $b$, we can move on because we can construct the other half of the factor pair with simple division. That's exactly what is happening in lines 37-38."
   ]
  },
  {
   "cell_type": "code",
   "execution_count": 9,
   "id": "e1c2eb5b",
   "metadata": {},
   "outputs": [
    {
     "data": {
      "text/plain": [
       "6857"
      ]
     },
     "execution_count": 9,
     "metadata": {},
     "output_type": "execute_result"
    }
   ],
   "source": [
    "import math\n",
    "n = 600851475143\n",
    "\n",
    "#finds the largest prime in a list\n",
    "def largest_prime(factorlist):\n",
    "    compositelist = []\n",
    "    primelist = []\n",
    "    #go down the list\n",
    "    for k in factorlist:\n",
    "        #check to see if a factor k is prime or composite. If composite, add to compositelist.\n",
    "        for m in range(2,k-1):\n",
    "            if k % m == 0:\n",
    "                compositelist.append(k)\n",
    "                break\n",
    "            else:\n",
    "                continue\n",
    "                \n",
    "    #construct primelist by using all factors which aren't composite\n",
    "    for a in factorlist:\n",
    "        if a not in compositelist:\n",
    "            primelist.append(a)\n",
    "    return(primelist[0])\n",
    "\n",
    "\n",
    "#finds the factors of any number\n",
    "def find_factors(n):\n",
    "    factorlist = []\n",
    "    \n",
    "    #first we find all the factors up to sqrt(n)\n",
    "    for i in range(1,math.ceil(math.sqrt(n))):\n",
    "        if n % i == 0:\n",
    "            factorlist.append(i)\n",
    "        else:\n",
    "            pass\n",
    "        \n",
    "    #next we find all of the factor's pairs, completing the list of factors\n",
    "    for j in range(0,len(factorlist)):\n",
    "        factorlist.append(int(n/factorlist[j]))\n",
    "    \n",
    "    #finally we order them largest to smallest and return the list\n",
    "    factorlist.sort(reverse=True)\n",
    "    return factorlist\n",
    "\n",
    "factorlist = find_factors(n)\n",
    "largest_prime(factorlist)\n"
   ]
  },
  {
   "cell_type": "code",
   "execution_count": null,
   "id": "cd2decc4",
   "metadata": {},
   "outputs": [],
   "source": []
  }
 ],
 "metadata": {
  "kernelspec": {
   "display_name": "Python 3 (ipykernel)",
   "language": "python",
   "name": "python3"
  },
  "language_info": {
   "codemirror_mode": {
    "name": "ipython",
    "version": 3
   },
   "file_extension": ".py",
   "mimetype": "text/x-python",
   "name": "python",
   "nbconvert_exporter": "python",
   "pygments_lexer": "ipython3",
   "version": "3.10.0"
  }
 },
 "nbformat": 4,
 "nbformat_minor": 5
}
